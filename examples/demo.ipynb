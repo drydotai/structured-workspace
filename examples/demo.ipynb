{
 "cells": [
  {
   "cell_type": "markdown",
   "metadata": {},
   "source": "# Dry.ai Python Library Demo\n\nThis notebook demonstrates the core functionality of the drydotai library. Authentication happens automatically on first use.\n\n## Setup Instructions\n\n1. **Install dependencies:**\n   ```bash\n   pip install -r requirements.txt\n   ```\n\n2. **Run this notebook:**\n   ```bash\n   jupyter notebook demo.ipynb\n   ```\n\n3. **Authentication:** You'll be prompted for your email and verification code when you run the first code cell."
  },
  {
   "cell_type": "code",
   "execution_count": null,
   "metadata": {},
   "outputs": [],
   "source": [
    "from drydotai import create_smartspace"
   ]
  },
  {
   "cell_type": "markdown",
   "metadata": {},
   "source": [
    "## Create a Smartspace\n",
    "\n",
    "Just describe what you want - authentication happens automatically if needed."
   ]
  },
  {
   "cell_type": "code",
   "execution_count": null,
   "metadata": {},
   "outputs": [],
   "source": [
    "space = create_smartspace(\"My project workspace for managing tasks and notes\")\n",
    "\n",
    "print(f\"Created: {space.name}\")\n",
    "print(f\"View at: {space.url}\")"
   ]
  },
  {
   "cell_type": "markdown",
   "metadata": {},
   "source": [
    "## Add Structure"
   ]
  },
  {
   "cell_type": "code",
   "execution_count": null,
   "metadata": {},
   "outputs": [],
   "source": [
    "# Create a type definition\n",
    "task_type = space.add_type(\"\"\"\n",
    "Create a Task type with fields:\n",
    "- title (text)\n",
    "- status (options: todo, in_progress, done)\n",
    "- priority (options: low, medium, high)\n",
    "\"\"\")\n",
    "\n",
    "# Create a folder\n",
    "folder = space.add_folder(\"Create a folder for completed tasks\")"
   ]
  },
  {
   "cell_type": "markdown",
   "metadata": {},
   "source": [
    "## Add Content"
   ]
  },
  {
   "cell_type": "code",
   "execution_count": null,
   "metadata": {},
   "outputs": [],
   "source": [
    "task1 = space.add_item(\"Create a high priority task: Review code by Friday\")\n",
    "task2 = space.add_item(\"Create a medium priority task: Update documentation\")\n",
    "task3 = space.add_item(\"Create a low priority task: Organize team meeting\")\n",
    "\n",
    "print(f\"Created {task1.name}\")\n",
    "print(f\"Created {task2.name}\")\n",
    "print(f\"Created {task3.name}\")"
   ]
  },
  {
   "cell_type": "markdown",
   "metadata": {},
   "source": [
    "## Search Items"
   ]
  },
  {
   "cell_type": "code",
   "execution_count": null,
   "metadata": {},
   "outputs": [],
   "source": [
    "high_priority = space.search(\"find all high priority tasks\")\n",
    "print(f\"Found {len(high_priority)} high priority tasks\")\n",
    "\n",
    "all_tasks = space.search(\"find all tasks\")\n",
    "for task in all_tasks:\n",
    "    priority = getattr(task, 'priority', 'unknown')\n",
    "    status = getattr(task, 'status', 'unknown')\n",
    "    print(f\"[{status}] {task.name} (Priority: {priority})\")"
   ]
  },
  {
   "cell_type": "markdown",
   "metadata": {},
   "source": [
    "## Update Items"
   ]
  },
  {
   "cell_type": "code",
   "execution_count": null,
   "metadata": {},
   "outputs": [],
   "source": [
    "# Update a single item\n",
    "updated_task = task1.update(\"Change status to in_progress\")\n",
    "print(f\"Updated: {updated_task.name}\")\n",
    "print(f\"New status: {getattr(updated_task, 'status', 'unknown')}\")\n",
    "\n",
    "# Bulk update multiple items\n",
    "updated_items = space.update_items(\"update all tasks with status 'todo' to set priority to 'medium'\")\n",
    "print(f\"Bulk updated {len(updated_items)} items\")"
   ]
  },
  {
   "cell_type": "markdown",
   "metadata": {},
   "source": [
    "## Final Result"
   ]
  },
  {
   "cell_type": "code",
   "execution_count": null,
   "metadata": {},
   "outputs": [],
   "source": [
    "final_tasks = space.search(\"find all tasks\")\n",
    "print(f\"Final workspace has {len(final_tasks)} tasks:\")\n",
    "for task in final_tasks:\n",
    "    priority = getattr(task, 'priority', 'unknown')\n",
    "    status = getattr(task, 'status', 'unknown')\n",
    "    print(f\"[{status}] {task.name} (Priority: {priority})\")\n",
    "\n",
    "print(f\"\\nView your workspace at: {space.url}\")"
   ]
  }
 ],
 "metadata": {
  "kernelspec": {
   "display_name": "Python 3",
   "language": "python",
   "name": "python3"
  },
  "language_info": {
   "name": "python",
   "version": "3.8.0"
  }
 },
 "nbformat": 4,
 "nbformat_minor": 4
}