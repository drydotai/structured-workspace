{
 "cells": [
  {
   "cell_type": "markdown",
   "metadata": {},
   "source": [
    "# Dry.ai Python Library Demo\n",
    "\n",
    "This notebook demonstrates the core functionality of the drydotai library. Authentication happens automatically on first use.\n",
    "\n",
    "## Setup Instructions\n",
    "\n",
    "1. **Install dependencies:**\n",
    "   ```bash\n",
    "   pip install -r requirements.txt\n",
    "   ```\n",
    "\n",
    "2. **Run this notebook:**\n",
    "   ```bash\n",
    "   jupyter notebook demo.ipynb\n",
    "   ```\n",
    "\n",
    "3. **Authentication:** You'll be prompted for your email and verification code when you run the first code cell."
   ]
  },
  {
   "cell_type": "code",
   "execution_count": 4,
   "metadata": {},
   "outputs": [],
   "source": [
    "from drydotai import create_space, set_verbose_logging\n",
    "\n",
    "# Enable verbose logging to see API call confirmations\n",
    "set_verbose_logging(True)"
   ]
  },
  {
   "cell_type": "markdown",
   "metadata": {},
   "source": [
    "## Create a Space\n",
    "\n",
    "Just describe what you want - authentication happens automatically if needed."
   ]
  },
  {
   "cell_type": "code",
   "execution_count": 2,
   "metadata": {},
   "outputs": [
    {
     "name": "stdout",
     "output_type": "stream",
     "text": [
      "🔐 Dry.ai authentication required for first-time setup...\n",
      "This will only happen once - your token will be saved for future use.\n",
      "\n"
     ]
    },
    {
     "name": "stdin",
     "output_type": "stream",
     "text": [
      "Enter your email address:  jrscally+pytestlocal@gmail.com\n"
     ]
    },
    {
     "name": "stdout",
     "output_type": "stream",
     "text": [
      "🔐 Starting authentication for jrscally+pytestlocal@gmail.com...\n",
      "✅ Registration/login initiated for jrscally+pytestlocal@gmail.com\n",
      "📧 New user created - verification code sent to email\n",
      "\n",
      "📨 Please check your email for the verification code\n"
     ]
    },
    {
     "name": "stdin",
     "output_type": "stream",
     "text": [
      "Enter verification code:  660406\n"
     ]
    },
    {
     "name": "stdout",
     "output_type": "stream",
     "text": [
      "✅ Email verified successfully!\n",
      "🔑 Token stored in .env\n",
      "👤 New user account created\n",
      "✅ Authentication successful! You're all set.\n",
      "\n",
      "Created: Project Management\n",
      "View at: http://velocity-local.dry:8080/v?t=tsr&oc=$5hxg8zsr10a62\n"
     ]
    }
   ],
   "source": [
    "space = create_space(\"Project Management\")\n",
    "\n",
    "print(f\"Created: {space.name}\")\n",
    "print(f\"View at: {space.url}\")"
   ]
  },
  {
   "cell_type": "markdown",
   "metadata": {},
   "source": [
    "## Add Structure"
   ]
  },
  {
   "cell_type": "code",
   "execution_count": 3,
   "metadata": {},
   "outputs": [],
   "source": [
    "# Create a type definition using natural language\n",
    "task_type = space.add_type(\"Create a Task type that has a title, status that can be todo or in_progress or done, priority that can be low, medium, or high, and notes for additional details\")\n",
    "\n",
    "# Create a folder\n",
    "folder = space.add_folder(\"Create a folder for archived tasks\")"
   ]
  },
  {
   "cell_type": "markdown",
   "metadata": {},
   "source": [
    "## Add Content"
   ]
  },
  {
   "cell_type": "code",
   "execution_count": 5,
   "metadata": {},
   "outputs": [
    {
     "name": "stdout",
     "output_type": "stream",
     "text": [
      "✅ Call completed successfully\n",
      "✅ Call completed successfully\n",
      "✅ Call completed successfully\n",
      "Created Review code\n",
      "Created Update documentation\n",
      "Created Organize team meeting\n"
     ]
    }
   ],
   "source": [
    "task1 = space.add_item(\"Create a high priority task: Review code by Friday\")\n",
    "task2 = space.add_item(\"Create a medium priority task: Update documentation\")\n",
    "task3 = space.add_item(\"Create a low priority task: Organize team meeting\")\n",
    "\n",
    "print(f\"Created {task1.name}\")\n",
    "print(f\"Created {task2.name}\")\n",
    "print(f\"Created {task3.name}\")"
   ]
  },
  {
   "cell_type": "markdown",
   "metadata": {},
   "source": [
    "## Search Items"
   ]
  },
  {
   "cell_type": "code",
   "execution_count": 7,
   "metadata": {},
   "outputs": [
    {
     "name": "stdout",
     "output_type": "stream",
     "text": [
      "✅ Call completed successfully\n",
      "Found 1 high priority tasks\n",
      "✅ Call completed successfully\n",
      "[To Do] Organize team meeting (Priority: Low)\n",
      "[To Do] Update documentation (Priority: Medium)\n",
      "[To Do] Review code (Priority: High)\n"
     ]
    }
   ],
   "source": [
    "high_priority = space.search(\"find all high priority tasks\")\n",
    "print(f\"Found {len(high_priority)} high priority tasks\")\n",
    "\n",
    "all_tasks = space.search(\"find all tasks\")\n",
    "for task in all_tasks:\n",
    "    priority = getattr(task, 'priority', 'unknown')\n",
    "    status = getattr(task, 'status', 'unknown')\n",
    "    print(f\"[{status}] {task.name} (Priority: {priority})\")"
   ]
  },
  {
   "cell_type": "markdown",
   "metadata": {},
   "source": [
    "## Update Items"
   ]
  },
  {
   "cell_type": "code",
   "execution_count": 8,
   "metadata": {},
   "outputs": [
    {
     "name": "stdout",
     "output_type": "stream",
     "text": [
      "✅ Call completed successfully\n",
      "Updated: Review code\n",
      "New status: In Progress\n",
      "✅ Call completed successfully\n",
      "Bulk updated 2 items\n"
     ]
    }
   ],
   "source": [
    "# Update a single item\n",
    "updated_task = task1.update(\"Change status to in_progress\")\n",
    "print(f\"Updated: {updated_task.name}\")\n",
    "print(f\"New status: {getattr(updated_task, 'status', 'unknown')}\")\n",
    "\n",
    "# Bulk update multiple items\n",
    "updated_items = space.update_items(\"update all tasks with status 'todo' to set priority to 'medium'\")\n",
    "print(f\"Bulk updated {len(updated_items)} items\")"
   ]
  },
  {
   "cell_type": "markdown",
   "metadata": {},
   "source": [
    "## Final Result"
   ]
  },
  {
   "cell_type": "code",
   "execution_count": 9,
   "metadata": {},
   "outputs": [
    {
     "name": "stdout",
     "output_type": "stream",
     "text": [
      "✅ Call completed successfully\n",
      "Final workspace has 3 tasks:\n",
      "[To Do] Organize team meeting (Priority: Low)\n",
      "[To Do] Update documentation (Priority: Medium)\n",
      "[In Progress] Review code (Priority: High)\n",
      "\n",
      "View your workspace at: http://velocity-local.dry:8080/v?t=tsr&oc=$5hxg8zsr10a62\n"
     ]
    }
   ],
   "source": [
    "final_tasks = space.search(\"find all tasks\")\n",
    "print(f\"Final workspace has {len(final_tasks)} tasks:\")\n",
    "for task in final_tasks:\n",
    "    priority = getattr(task, 'priority', 'unknown')\n",
    "    status = getattr(task, 'status', 'unknown')\n",
    "    print(f\"[{status}] {task.name} (Priority: {priority})\")\n",
    "\n",
    "print(f\"\\nView your workspace at: {space.url}\")"
   ]
  },
  {
   "cell_type": "code",
   "execution_count": 15,
   "metadata": {},
   "outputs": [
    {
     "name": "stdout",
     "output_type": "stream",
     "text": [
      "❌ Call failed: Something went wrong - item could not be updated Could not set subdomain Please choose an alias between 9 and 20 characters long, using only lower-case letters, numbers, and underscores.\n"
     ]
    },
    {
     "data": {
      "text/plain": [
       "Space(\n",
       "  api info: This smartspace uses dry.ai to allow users to store and track personal inform...\n",
       "  created by: 'jrscally+pytestlocal@gmail.com'\n",
       "  creation time: '9/25/2025 1:04:55 PM'\n",
       "  description: 'This smartspace is dedicated to managing and organizing projects effectively.'\n",
       "  folders: [{'Name': 'Archived Tasks', 'ID': '2XWHNVNDSR565', 'Description': 'This folder is for storing completed or archived tasks.', 'URL': 'http://velocity-local.dry:8080/v?t=tsr&oc=$2xwhnvndsr565'}, {'Name': 'Profiles', 'ID': '3Y1AOUBJS26_2', 'Description': None, 'URL': 'http://velocity-local.dry:8080/v?t=tsr&oc=$3y1aoubjs26_2'}, {'Name': 'Tasks', 'ID': '30A0OQ7AASF89', 'Description': '', 'URL': 'http://velocity-local.dry:8080/v?t=tsr&oc=$30a0oq7aasf89'}]\n",
       "  id: '5HXG8ZSR10A62'\n",
       "  name: 'Project Management'\n",
       "  type: 'Smartspace'\n",
       "  types: [{'Name': 'Link', 'ID': '4UC36HGBKQ4V4', 'Description': 'The following items are links', 'Fields': 'Each item should contain the following fields: searchable link. If any is missing either infer it or prompt the user to supply it. \" Picture should always be an absolute url to an image. Searchable Link should use web search to determine the exact link first. '}, {'Name': 'File', 'ID': '39UYSI2G99ER6', 'Description': 'Files with relevant information can be found here:', 'Fields': 'Each item should contain the following fields: name, file field. If any is missing either infer it or prompt the user to supply it. \" '}, {'Name': 'Text note', 'ID': '3BNV_35MWMPKW', 'Fields': 'Each item should contain the following fields: title, body. If any is missing either infer it or prompt the user to supply it. \" Picture should use web search to determine the exact link first. '}, {'Name': 'Chart', 'ID': '45LST4JR_03MV', 'Description': 'This type is for a chart to filter and display data from this smartspace. Since dry stores and updates the data only include a generic description of the data  and not the data itself.', 'Fields': 'Each item should contain the following fields: title, description. If any is missing either infer it or prompt the user to supply it. \" . Do not include the following as they will be generated internally: chart data'}, {'Name': 'RSS Feed', 'ID': '2_TSIYPIKBT81', 'Fields': 'Each item should contain the following fields: title, rss url, source, date added. If any is missing either infer it or prompt the user to supply it. \" RSS URL should use web search to determine the exact link first. '}, {'Name': 'Task', 'ID': '4QFGFGL0Q8WAH', 'Fields': 'Each item should contain the following fields: title, status, priority. If any is missing either infer it or prompt the user to supply it. \" '}]\n",
       "  url: 'http://jrscallylocalsub1.velocity-local.dry:8080'\n",
       ")"
      ]
     },
     "execution_count": 15,
     "metadata": {},
     "output_type": "execute_result"
    }
   ],
   "source": [
    "space.update(\"set the subdomain to 1234\")"
   ]
  },
  {
   "cell_type": "code",
   "execution_count": null,
   "metadata": {},
   "outputs": [],
   "source": []
  }
 ],
 "metadata": {
  "kernelspec": {
   "display_name": "Python 3 (ipykernel)",
   "language": "python",
   "name": "python3"
  },
  "language_info": {
   "codemirror_mode": {
    "name": "ipython",
    "version": 3
   },
   "file_extension": ".py",
   "mimetype": "text/x-python",
   "name": "python",
   "nbconvert_exporter": "python",
   "pygments_lexer": "ipython3",
   "version": "3.13.5"
  }
 },
 "nbformat": 4,
 "nbformat_minor": 4
}
